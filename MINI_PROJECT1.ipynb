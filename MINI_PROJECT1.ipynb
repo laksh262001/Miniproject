{
  "cells": [
    {
      "cell_type": "markdown",
      "metadata": {
        "id": "view-in-github",
        "colab_type": "text"
      },
      "source": [
        "<a href=\"https://colab.research.google.com/github/laksh262001/Miniproject/blob/main/MINI_PROJECT1.ipynb\" target=\"_parent\"><img src=\"https://colab.research.google.com/assets/colab-badge.svg\" alt=\"Open In Colab\"/></a>"
      ]
    },
    {
      "cell_type": "markdown",
      "metadata": {
        "id": "qtaLD-5Ags29"
      },
      "source": [
        "# Imports"
      ]
    },
    {
      "cell_type": "code",
      "execution_count": null,
      "metadata": {
        "id": "vgxslFTVf5Dp"
      },
      "outputs": [],
      "source": [
        "import os\n",
        "import numpy as np\n",
        "from tensorflow.keras.datasets import cifar10\n",
        "from tensorflow.keras.preprocessing import image\n",
        "from keras.preprocessing.image import load_img, img_to_array\n",
        "\n",
        "# array_to_image use code image.array_to_img ^^^^TADA\n",
        "\n",
        "from tensorflow.keras.models import Sequential\n",
        "from tensorflow.keras.layers import Dense,Activation,Dropout\n",
        "\n",
        "# tenserboard to visualise whats happening\n",
        "\n",
        "# from tensorflow.keras.callbacks import TensorBoard\n",
        "from time import strftime\n",
        "\n",
        "# other libraries\n",
        "\n",
        "from IPython.display import display\n",
        "import matplotlib.pyplot as plt\n",
        "\n",
        "%matplotlib inline"
      ]
    },
    {
      "cell_type": "code",
      "execution_count": null,
      "metadata": {
        "id": "3ZuCz0eLgASt"
      },
      "outputs": [],
      "source": [
        "from numpy.random import seed\n",
        "seed(888)\n",
        "import tensorflow as tf\n",
        "tf.random.set_seed(404)\n",
        "\n",
        "\n"
      ]
    },
    {
      "cell_type": "markdown",
      "metadata": {
        "id": "Q-mryf18gzZ_"
      },
      "source": [
        "# Constants"
      ]
    },
    {
      "cell_type": "code",
      "execution_count": null,
      "metadata": {
        "id": "DNjl84qfgDEP"
      },
      "outputs": [],
      "source": [
        "LOG_DIR = 'tensorboard_cifar_logstt/'\n",
        "\n",
        "LABEL_NAMES = ['Plane', 'Car', 'Bird', 'Cat', 'Deer', 'Dog', 'Frog', 'Horse', 'Ship', 'Truck']\n",
        "IMAGE_WIDTH = 32\n",
        "IMAGE_HEIGHT = 32\n",
        "IMAGE_PIXELS = IMAGE_WIDTH * IMAGE_HEIGHT\n",
        "COLOR_CHANNELS = 3\n",
        "TOTAL_INPUTS = IMAGE_PIXELS * COLOR_CHANNELS\n",
        "NR_CLASSES = 10\n",
        "\n",
        "VALIDATION_SIZE = 10000\n",
        "SMALL_TRAIN_SIZE = 1000"
      ]
    },
    {
      "cell_type": "code",
      "execution_count": null,
      "metadata": {
        "colab": {
          "base_uri": "https://localhost:8080/",
          "height": 37
        },
        "id": "iQhofJM6TI4Y",
        "outputId": "acdb1d53-a182-44ac-baf8-b23c589455e7"
      },
      "outputs": [
        {
          "output_type": "execute_result",
          "data": {
            "text/plain": [
              "'Frog'"
            ],
            "application/vnd.google.colaboratory.intrinsic+json": {
              "type": "string"
            }
          },
          "metadata": {},
          "execution_count": 4
        }
      ],
      "source": [
        "LABEL_NAMES[(6)]"
      ]
    },
    {
      "cell_type": "markdown",
      "metadata": {
        "id": "2oC5hGt_glz3"
      },
      "source": [
        "# Get Data"
      ]
    },
    {
      "cell_type": "code",
      "execution_count": null,
      "metadata": {
        "id": "DJ8loz2kgI6y",
        "colab": {
          "base_uri": "https://localhost:8080/"
        },
        "outputId": "866e58a5-fc21-4361-a39b-ae953bcf26b1"
      },
      "outputs": [
        {
          "output_type": "stream",
          "name": "stdout",
          "text": [
            "Downloading data from https://www.cs.toronto.edu/~kriz/cifar-10-python.tar.gz\n",
            "170500096/170498071 [==============================] - 4s 0us/step\n",
            "170508288/170498071 [==============================] - 4s 0us/step\n"
          ]
        }
      ],
      "source": [
        "(x_train_all, y_train_all), (x_test, y_test) = cifar10.load_data()"
      ]
    },
    {
      "cell_type": "markdown",
      "metadata": {
        "id": "yxCN-tkXg39b"
      },
      "source": [
        "# PlotData"
      ]
    },
    {
      "cell_type": "code",
      "execution_count": null,
      "metadata": {
        "colab": {
          "base_uri": "https://localhost:8080/",
          "height": 285
        },
        "id": "34m4BR70gNIp",
        "outputId": "c62f4ba0-634a-43d4-ce50-8c9c19d314ec"
      },
      "outputs": [
        {
          "output_type": "display_data",
          "data": {
            "text/plain": [
              "<Figure size 432x288 with 1 Axes>"
            ],
            "image/png": "[encoded data removed]"
          },
          "metadata": {
            "needs_background": "light"
          }
        }
      ],
      "source": [
        "plt.imshow(x_train_all[4])\n",
        "plt.xlabel(LABEL_NAMES[y_train_all[4][0]], fontsize=15)\n",
        "plt.show()"
      ]
    },
    {
      "cell_type": "code",
      "execution_count": null,
      "metadata": {
        "colab": {
          "base_uri": "https://localhost:8080/",
          "height": 120
        },
        "id": "d1kmOYphgW7a",
        "outputId": "21b8a103-5f7d-44b3-b41e-8e3c91d172ea"
      },
      "outputs": [
        {
          "output_type": "display_data",
          "data": {
            "text/plain": [
              "<Figure size 1080x360 with 10 Axes>"
            ],
            "image/png": "[encoded data removed]"
          },
          "metadata": {}
        }
      ],
      "source": [
        "plt.figure(figsize=(15,5))\n",
        "\n",
        "for i in range(10):\n",
        "    plt.subplot(1, 10, i+1)\n",
        "    plt.yticks([])\n",
        "    plt.xticks([])\n",
        "    plt.xlabel(LABEL_NAMES[y_train_all[i][0]], fontsize=14)\n",
        "    plt.imshow(x_train_all[i])"
      ]
    },
    {
      "cell_type": "markdown",
      "metadata": {
        "id": "qIJT6N-mhAOW"
      },
      "source": [
        "# Preprocess Data"
      ]
    },
    {
      "cell_type": "code",
      "execution_count": null,
      "metadata": {
        "id": "OAYslXOkgczL"
      },
      "outputs": [],
      "source": [
        "x_train_all, x_test = x_train_all / 255.0, x_test / 255.0"
      ]
    },
    {
      "cell_type": "code",
      "execution_count": null,
      "metadata": {
        "id": "3L18Y9fjhNex"
      },
      "outputs": [],
      "source": [
        "x_train_all = x_train_all.reshape(x_train_all.shape[0], TOTAL_INPUTS)"
      ]
    },
    {
      "cell_type": "code",
      "execution_count": null,
      "metadata": {
        "colab": {
          "base_uri": "https://localhost:8080/"
        },
        "id": "_M2M5BqZhRk_",
        "outputId": "21143a4e-1ad0-4a78-fab7-c6674ead2a3d"
      },
      "outputs": [
        {
          "output_type": "stream",
          "name": "stdout",
          "text": [
            "Shape of x_test is (10000, 3072)\n"
          ]
        }
      ],
      "source": [
        "x_test = x_test.reshape(len(x_test), TOTAL_INPUTS)\n",
        "print(f'Shape of x_test is {x_test.shape}')"
      ]
    },
    {
      "cell_type": "markdown",
      "metadata": {
        "id": "9UPgGlFBhZBw"
      },
      "source": [
        "# Create Validation Dataset"
      ]
    },
    {
      "cell_type": "code",
      "execution_count": null,
      "metadata": {
        "colab": {
          "base_uri": "https://localhost:8080/"
        },
        "id": "zfQWsawWhU57",
        "outputId": "0afc0f97-006c-4d8e-85f4-863cb625019e"
      },
      "outputs": [
        {
          "output_type": "execute_result",
          "data": {
            "text/plain": [
              "(10000, 3072)"
            ]
          },
          "metadata": {},
          "execution_count": 11
        }
      ],
      "source": [
        "x_val = x_train_all[:VALIDATION_SIZE]\n",
        "y_val = y_train_all[:VALIDATION_SIZE]\n",
        "x_val.shape"
      ]
    },
    {
      "cell_type": "code",
      "execution_count": null,
      "metadata": {
        "colab": {
          "base_uri": "https://localhost:8080/"
        },
        "id": "otZEB77ghggZ",
        "outputId": "4785a522-bd11-4092-e33e-333616d7c216"
      },
      "outputs": [
        {
          "output_type": "execute_result",
          "data": {
            "text/plain": [
              "(40000, 3072)"
            ]
          },
          "metadata": {},
          "execution_count": 12
        }
      ],
      "source": [
        "x_train = x_train_all[VALIDATION_SIZE:]\n",
        "y_train = y_train_all[VALIDATION_SIZE:]\n",
        "x_train.shape"
      ]
    },
    {
      "cell_type": "code",
      "execution_count": null,
      "metadata": {
        "id": "MYMewtKzhjXW"
      },
      "outputs": [],
      "source": [
        "x_train_xs = x_train[:SMALL_TRAIN_SIZE]\n",
        "y_train_xs = y_train[:SMALL_TRAIN_SIZE]"
      ]
    },
    {
      "cell_type": "markdown",
      "metadata": {
        "id": "8dg_t2TxhpLY"
      },
      "source": [
        "# Define the Neural Network using keras"
      ]
    },
    {
      "cell_type": "code",
      "execution_count": null,
      "metadata": {
        "colab": {
          "base_uri": "https://localhost:8080/"
        },
        "id": "BclSMj_xtvon",
        "outputId": "914b6d43-e432-465d-9491-c7fa5107ddfc"
      },
      "outputs": [
        {
          "output_type": "execute_result",
          "data": {
            "text/plain": [
              "3072"
            ]
          },
          "metadata": {},
          "execution_count": 14
        }
      ],
      "source": [
        "32*32*3"
      ]
    },
    {
      "cell_type": "code",
      "execution_count": null,
      "metadata": {
        "id": "ID5kd0FghmWr"
      },
      "outputs": [],
      "source": [
        "model_1 = Sequential([\n",
        "    Dense(units=128, input_dim=TOTAL_INPUTS, activation='relu', name='m1_hidden1'),\n",
        "    Dense(units=64, activation='relu', name='m1_hidden2'),\n",
        "    Dense(16, activation='relu', name='m1_hidden3'),\n",
        "    Dense(10, activation='softmax', name='m1_output')\n",
        "])\n",
        "model_1.compile(optimizer='adam', \n",
        "                loss='sparse_categorical_crossentropy', \n",
        "                metrics=['accuracy'])"
      ]
    },
    {
      "cell_type": "code",
      "execution_count": null,
      "metadata": {
        "id": "C0z5LjyPpF6S"
      },
      "outputs": [],
      "source": [
        "model_2 =Sequential([\n",
        "    Dropout(0.2,seed=42,input_shape =(TOTAL_INPUTS,)),\n",
        "    Dense(128, activation='relu', name='m1_hidden1'),\n",
        "    Dense(64, activation='relu', name='m1_hidden2'),\n",
        "    Dense(16, activation='relu', name='m1_hidden3'),\n",
        "    Dense(10, activation='softmax', name='m1_output')\n",
        "])\n",
        "\n",
        "model_2.compile(optimizer='adam', \n",
        "                loss='sparse_categorical_crossentropy', \n",
        "                metrics=['accuracy'])"
      ]
    },
    {
      "cell_type": "code",
      "execution_count": null,
      "metadata": {
        "id": "jSOxI8Zy0OKT"
      },
      "outputs": [],
      "source": [
        "model_3=Sequential([\n",
        "                    Dropout(0.25,seed=42,input_shape=(TOTAL_INPUTS,)),\n",
        "                    Dense(300,activation='relu'),\n",
        "                    Dropout(0.2,seed=42),\n",
        "                    Dense(250,activation='relu'),\n",
        "                    Dense(150,activation='relu'),\n",
        "                    Dense(10,activation='softmax')\n",
        "\n",
        "])\n",
        "\n",
        "model_3.compile(optimizer='adam',loss='sparse_categorical_crossentropy',metrics=['accuracy'])"
      ]
    },
    {
      "cell_type": "code",
      "execution_count": null,
      "metadata": {
        "id": "BiXRi8rkJRDo"
      },
      "outputs": [],
      "source": [
        "model_4=Sequential([\n",
        "                    Dropout(0.25,seed=42,input_shape=(TOTAL_INPUTS,)),\n",
        "                    Dense(300,activation='relu'),\n",
        "                    Dropout(0.2,seed=42),\n",
        "                    Dense(250,activation='relu'),\n",
        "                    Dense(150,activation='relu'),\n",
        "                    Dense(10,activation='softmax')\n",
        "])\n",
        "model_4.compile(loss='sparse_categorical_crossentropy',metrics=['accuracy'],optimizer=tf.keras.optimizers.Adam(learning_rate=1e-3))"
      ]
    },
    {
      "cell_type": "markdown",
      "metadata": {
        "id": "rumqncB4h9tq"
      },
      "source": [
        "# Fit the model"
      ]
    },
    {
      "cell_type": "code",
      "execution_count": null,
      "metadata": {
        "colab": {
          "base_uri": "https://localhost:8080/"
        },
        "id": "93S8DixJ1sfP",
        "outputId": "46659d77-52bb-4672-a290-d2df1612ea60"
      },
      "outputs": [
        {
          "output_type": "stream",
          "name": "stdout",
          "text": [
            "Epoch 1/300\n",
            "1/1 [==============================] - 5s 5s/step - loss: 1.1661 - accuracy: 0.5798 - val_loss: 1.3154 - val_accuracy: 0.5346\n",
            "Epoch 2/300\n",
            "1/1 [==============================] - 5s 5s/step - loss: 1.1614 - accuracy: 0.5827 - val_loss: 1.3149 - val_accuracy: 0.5341\n",
            "Epoch 3/300\n",
            "1/1 [==============================] - 5s 5s/step - loss: 1.1620 - accuracy: 0.5821 - val_loss: 1.3144 - val_accuracy: 0.5335\n",
            "Epoch 4/300\n",
            "1/1 [==============================] - 5s 5s/step - loss: 1.1607 - accuracy: 0.5815 - val_loss: 1.3137 - val_accuracy: 0.5337\n",
            "Epoch 5/300\n",
            "1/1 [==============================] - 4s 4s/step - loss: 1.1627 - accuracy: 0.5809 - val_loss: 1.3139 - val_accuracy: 0.5334\n",
            "Epoch 6/300\n",
            "1/1 [==============================] - 4s 4s/step - loss: 1.1591 - accuracy: 0.5863 - val_loss: 1.3149 - val_accuracy: 0.5333\n",
            "Epoch 7/300\n",
            "1/1 [==============================] - 4s 4s/step - loss: 1.1589 - accuracy: 0.5855 - val_loss: 1.3156 - val_accuracy: 0.5341\n",
            "Epoch 8/300\n",
            "1/1 [==============================] - 4s 4s/step - loss: 1.1581 - accuracy: 0.5837 - val_loss: 1.3162 - val_accuracy: 0.5339\n",
            "Epoch 9/300\n",
            "1/1 [==============================] - 4s 4s/step - loss: 1.1633 - accuracy: 0.5829 - val_loss: 1.3165 - val_accuracy: 0.5332\n",
            "Epoch 10/300\n",
            "1/1 [==============================] - 4s 4s/step - loss: 1.1603 - accuracy: 0.5823 - val_loss: 1.3159 - val_accuracy: 0.5337\n",
            "Epoch 11/300\n",
            "1/1 [==============================] - 4s 4s/step - loss: 1.1655 - accuracy: 0.5824 - val_loss: 1.3149 - val_accuracy: 0.5346\n",
            "Epoch 12/300\n",
            "1/1 [==============================] - 4s 4s/step - loss: 1.1617 - accuracy: 0.5841 - val_loss: 1.3143 - val_accuracy: 0.5345\n",
            "Epoch 13/300\n",
            "1/1 [==============================] - 4s 4s/step - loss: 1.1561 - accuracy: 0.5853 - val_loss: 1.3143 - val_accuracy: 0.5345\n",
            "Epoch 14/300\n",
            "1/1 [==============================] - 5s 5s/step - loss: 1.1610 - accuracy: 0.5806 - val_loss: 1.3145 - val_accuracy: 0.5350\n",
            "Epoch 15/300\n",
            "1/1 [==============================] - 5s 5s/step - loss: 1.1604 - accuracy: 0.5860 - val_loss: 1.3146 - val_accuracy: 0.5347\n",
            "Epoch 16/300\n",
            "1/1 [==============================] - 4s 4s/step - loss: 1.1608 - accuracy: 0.5816 - val_loss: 1.3149 - val_accuracy: 0.5354\n",
            "Epoch 17/300\n",
            "1/1 [==============================] - 5s 5s/step - loss: 1.1704 - accuracy: 0.5779 - val_loss: 1.3150 - val_accuracy: 0.5360\n",
            "Epoch 18/300\n",
            "1/1 [==============================] - 5s 5s/step - loss: 1.1568 - accuracy: 0.5843 - val_loss: 1.3147 - val_accuracy: 0.5347\n",
            "Epoch 19/300\n",
            "1/1 [==============================] - 5s 5s/step - loss: 1.1586 - accuracy: 0.5837 - val_loss: 1.3150 - val_accuracy: 0.5343\n",
            "Epoch 20/300\n",
            "1/1 [==============================] - 4s 4s/step - loss: 1.1588 - accuracy: 0.5841 - val_loss: 1.3159 - val_accuracy: 0.5337\n",
            "Epoch 21/300\n",
            "1/1 [==============================] - 5s 5s/step - loss: 1.1636 - accuracy: 0.5798 - val_loss: 1.3168 - val_accuracy: 0.5325\n",
            "Epoch 22/300\n",
            "1/1 [==============================] - 4s 4s/step - loss: 1.1638 - accuracy: 0.5806 - val_loss: 1.3174 - val_accuracy: 0.5316\n",
            "Epoch 23/300\n",
            "1/1 [==============================] - 5s 5s/step - loss: 1.1597 - accuracy: 0.5844 - val_loss: 1.3169 - val_accuracy: 0.5315\n",
            "Epoch 24/300\n",
            "1/1 [==============================] - 5s 5s/step - loss: 1.1638 - accuracy: 0.5838 - val_loss: 1.3155 - val_accuracy: 0.5314\n",
            "Epoch 25/300\n",
            "1/1 [==============================] - 5s 5s/step - loss: 1.1556 - accuracy: 0.5840 - val_loss: 1.3140 - val_accuracy: 0.5319\n",
            "Epoch 26/300\n",
            "1/1 [==============================] - 5s 5s/step - loss: 1.1622 - accuracy: 0.5813 - val_loss: 1.3135 - val_accuracy: 0.5329\n",
            "Epoch 27/300\n",
            "1/1 [==============================] - 4s 4s/step - loss: 1.1611 - accuracy: 0.5821 - val_loss: 1.3141 - val_accuracy: 0.5341\n",
            "Epoch 28/300\n",
            "1/1 [==============================] - 5s 5s/step - loss: 1.1600 - accuracy: 0.5807 - val_loss: 1.3149 - val_accuracy: 0.5338\n",
            "Epoch 29/300\n",
            "1/1 [==============================] - 5s 5s/step - loss: 1.1662 - accuracy: 0.5761 - val_loss: 1.3160 - val_accuracy: 0.5333\n",
            "Epoch 30/300\n",
            "1/1 [==============================] - 4s 4s/step - loss: 1.1670 - accuracy: 0.5798 - val_loss: 1.3166 - val_accuracy: 0.5323\n",
            "Epoch 31/300\n",
            "1/1 [==============================] - 4s 4s/step - loss: 1.1627 - accuracy: 0.5821 - val_loss: 1.3163 - val_accuracy: 0.5336\n",
            "Epoch 32/300\n",
            "1/1 [==============================] - 4s 4s/step - loss: 1.1647 - accuracy: 0.5820 - val_loss: 1.3152 - val_accuracy: 0.5344\n",
            "Epoch 33/300\n",
            "1/1 [==============================] - 4s 4s/step - loss: 1.1588 - accuracy: 0.5823 - val_loss: 1.3143 - val_accuracy: 0.5344\n",
            "Epoch 34/300\n",
            "1/1 [==============================] - 4s 4s/step - loss: 1.1610 - accuracy: 0.5833 - val_loss: 1.3143 - val_accuracy: 0.5340\n",
            "Epoch 35/300\n",
            "1/1 [==============================] - 4s 4s/step - loss: 1.1609 - accuracy: 0.5813 - val_loss: 1.3147 - val_accuracy: 0.5351\n",
            "Epoch 36/300\n",
            "1/1 [==============================] - 4s 4s/step - loss: 1.1611 - accuracy: 0.5830 - val_loss: 1.3148 - val_accuracy: 0.5351\n",
            "Epoch 37/300\n",
            "1/1 [==============================] - 4s 4s/step - loss: 1.1646 - accuracy: 0.5817 - val_loss: 1.3144 - val_accuracy: 0.5354\n",
            "Epoch 38/300\n",
            "1/1 [==============================] - 5s 5s/step - loss: 1.1631 - accuracy: 0.5826 - val_loss: 1.3144 - val_accuracy: 0.5346\n",
            "Epoch 39/300\n",
            "1/1 [==============================] - 5s 5s/step - loss: 1.1695 - accuracy: 0.5798 - val_loss: 1.3146 - val_accuracy: 0.5341\n",
            "Epoch 40/300\n",
            "1/1 [==============================] - 4s 4s/step - loss: 1.1629 - accuracy: 0.5796 - val_loss: 1.3155 - val_accuracy: 0.5328\n",
            "Epoch 41/300\n",
            "1/1 [==============================] - 4s 4s/step - loss: 1.1605 - accuracy: 0.5831 - val_loss: 1.3163 - val_accuracy: 0.5327\n",
            "Epoch 42/300\n",
            "1/1 [==============================] - 4s 4s/step - loss: 1.1626 - accuracy: 0.5839 - val_loss: 1.3165 - val_accuracy: 0.5339\n",
            "Epoch 43/300\n",
            "1/1 [==============================] - 4s 4s/step - loss: 1.1643 - accuracy: 0.5792 - val_loss: 1.3162 - val_accuracy: 0.5337\n",
            "Epoch 44/300\n",
            "1/1 [==============================] - 4s 4s/step - loss: 1.1650 - accuracy: 0.5803 - val_loss: 1.3156 - val_accuracy: 0.5331\n",
            "Epoch 45/300\n",
            "1/1 [==============================] - 4s 4s/step - loss: 1.1606 - accuracy: 0.5856 - val_loss: 1.3153 - val_accuracy: 0.5351\n",
            "Epoch 46/300\n",
            "1/1 [==============================] - 4s 4s/step - loss: 1.1644 - accuracy: 0.5805 - val_loss: 1.3157 - val_accuracy: 0.5332\n",
            "Epoch 47/300\n",
            "1/1 [==============================] - 4s 4s/step - loss: 1.1611 - accuracy: 0.5838 - val_loss: 1.3163 - val_accuracy: 0.5347\n",
            "Epoch 48/300\n",
            "1/1 [==============================] - 4s 4s/step - loss: 1.1670 - accuracy: 0.5806 - val_loss: 1.3166 - val_accuracy: 0.5343\n",
            "Epoch 49/300\n",
            "1/1 [==============================] - 4s 4s/step - loss: 1.1628 - accuracy: 0.5807 - val_loss: 1.3164 - val_accuracy: 0.5343\n",
            "Epoch 50/300\n",
            "1/1 [==============================] - 4s 4s/step - loss: 1.1620 - accuracy: 0.5821 - val_loss: 1.3157 - val_accuracy: 0.5348\n",
            "Epoch 51/300\n",
            "1/1 [==============================] - 4s 4s/step - loss: 1.1620 - accuracy: 0.5848 - val_loss: 1.3153 - val_accuracy: 0.5355\n",
            "Epoch 52/300\n",
            "1/1 [==============================] - 4s 4s/step - loss: 1.1628 - accuracy: 0.5837 - val_loss: 1.3151 - val_accuracy: 0.5352\n",
            "Epoch 53/300\n",
            "1/1 [==============================] - 4s 4s/step - loss: 1.1624 - accuracy: 0.5837 - val_loss: 1.3157 - val_accuracy: 0.5342\n",
            "Epoch 54/300\n",
            "1/1 [==============================] - 5s 5s/step - loss: 1.1524 - accuracy: 0.5857 - val_loss: 1.3155 - val_accuracy: 0.5345\n",
            "Epoch 55/300\n",
            "1/1 [==============================] - 5s 5s/step - loss: 1.1595 - accuracy: 0.5840 - val_loss: 1.3154 - val_accuracy: 0.5346\n",
            "Epoch 56/300\n",
            "1/1 [==============================] - 5s 5s/step - loss: 1.1603 - accuracy: 0.5822 - val_loss: 1.3150 - val_accuracy: 0.5356\n",
            "Epoch 57/300\n",
            "1/1 [==============================] - 5s 5s/step - loss: 1.1610 - accuracy: 0.5807 - val_loss: 1.3149 - val_accuracy: 0.5348\n",
            "Epoch 58/300\n",
            "1/1 [==============================] - 4s 4s/step - loss: 1.1532 - accuracy: 0.5876 - val_loss: 1.3141 - val_accuracy: 0.5352\n",
            "Epoch 59/300\n",
            "1/1 [==============================] - 4s 4s/step - loss: 1.1616 - accuracy: 0.5840 - val_loss: 1.3142 - val_accuracy: 0.5362\n",
            "Epoch 60/300\n",
            "1/1 [==============================] - 4s 4s/step - loss: 1.1585 - accuracy: 0.5864 - val_loss: 1.3147 - val_accuracy: 0.5360\n",
            "Epoch 61/300\n",
            "1/1 [==============================] - 5s 5s/step - loss: 1.1597 - accuracy: 0.5817 - val_loss: 1.3154 - val_accuracy: 0.5362\n",
            "Epoch 62/300\n",
            "1/1 [==============================] - 4s 4s/step - loss: 1.1556 - accuracy: 0.5852 - val_loss: 1.3157 - val_accuracy: 0.5346\n",
            "Epoch 63/300\n",
            "1/1 [==============================] - 4s 4s/step - loss: 1.1570 - accuracy: 0.5850 - val_loss: 1.3156 - val_accuracy: 0.5344\n",
            "Epoch 64/300\n",
            "1/1 [==============================] - 4s 4s/step - loss: 1.1572 - accuracy: 0.5877 - val_loss: 1.3156 - val_accuracy: 0.5332\n",
            "Epoch 65/300\n",
            "1/1 [==============================] - 4s 4s/step - loss: 1.1653 - accuracy: 0.5813 - val_loss: 1.3160 - val_accuracy: 0.5328\n",
            "Epoch 66/300\n",
            "1/1 [==============================] - 4s 4s/step - loss: 1.1620 - accuracy: 0.5826 - val_loss: 1.3165 - val_accuracy: 0.5330\n",
            "Epoch 67/300\n",
            "1/1 [==============================] - 5s 5s/step - loss: 1.1561 - accuracy: 0.5852 - val_loss: 1.3164 - val_accuracy: 0.5326\n",
            "Epoch 68/300\n",
            "1/1 [==============================] - 4s 4s/step - loss: 1.1643 - accuracy: 0.5811 - val_loss: 1.3161 - val_accuracy: 0.5339\n",
            "Epoch 69/300\n",
            "1/1 [==============================] - 4s 4s/step - loss: 1.1594 - accuracy: 0.5843 - val_loss: 1.3161 - val_accuracy: 0.5360\n",
            "Epoch 70/300\n",
            "1/1 [==============================] - 5s 5s/step - loss: 1.1637 - accuracy: 0.5815 - val_loss: 1.3159 - val_accuracy: 0.5349\n",
            "Epoch 71/300\n",
            "1/1 [==============================] - 5s 5s/step - loss: 1.1603 - accuracy: 0.5845 - val_loss: 1.3154 - val_accuracy: 0.5359\n",
            "Epoch 72/300\n",
            "1/1 [==============================] - 5s 5s/step - loss: 1.1576 - accuracy: 0.5842 - val_loss: 1.3151 - val_accuracy: 0.5365\n",
            "Epoch 73/300\n",
            "1/1 [==============================] - 4s 4s/step - loss: 1.1587 - accuracy: 0.5814 - val_loss: 1.3147 - val_accuracy: 0.5361\n",
            "Epoch 74/300\n",
            "1/1 [==============================] - 4s 4s/step - loss: 1.1615 - accuracy: 0.5840 - val_loss: 1.3148 - val_accuracy: 0.5356\n",
            "Epoch 75/300\n",
            "1/1 [==============================] - 4s 4s/step - loss: 1.1584 - accuracy: 0.5846 - val_loss: 1.3152 - val_accuracy: 0.5355\n",
            "Epoch 76/300\n",
            "1/1 [==============================] - 4s 4s/step - loss: 1.1601 - accuracy: 0.5816 - val_loss: 1.3157 - val_accuracy: 0.5360\n",
            "Epoch 77/300\n",
            "1/1 [==============================] - 4s 4s/step - loss: 1.1604 - accuracy: 0.5829 - val_loss: 1.3164 - val_accuracy: 0.5352\n",
            "Epoch 78/300\n",
            "1/1 [==============================] - 4s 4s/step - loss: 1.1574 - accuracy: 0.5847 - val_loss: 1.3170 - val_accuracy: 0.5340\n",
            "Epoch 79/300\n",
            "1/1 [==============================] - 4s 4s/step - loss: 1.1589 - accuracy: 0.5835 - val_loss: 1.3168 - val_accuracy: 0.5331\n",
            "Epoch 80/300\n",
            "1/1 [==============================] - 4s 4s/step - loss: 1.1566 - accuracy: 0.5820 - val_loss: 1.3156 - val_accuracy: 0.5349\n",
            "Epoch 81/300\n",
            "1/1 [==============================] - 4s 4s/step - loss: 1.1565 - accuracy: 0.5833 - val_loss: 1.3144 - val_accuracy: 0.5352\n",
            "Epoch 82/300\n",
            "1/1 [==============================] - 4s 4s/step - loss: 1.1621 - accuracy: 0.5803 - val_loss: 1.3141 - val_accuracy: 0.5357\n",
            "Epoch 83/300\n",
            "1/1 [==============================] - 4s 4s/step - loss: 1.1576 - accuracy: 0.5824 - val_loss: 1.3146 - val_accuracy: 0.5362\n",
            "Epoch 84/300\n",
            "1/1 [==============================] - 4s 4s/step - loss: 1.1598 - accuracy: 0.5815 - val_loss: 1.3157 - val_accuracy: 0.5363\n",
            "Epoch 85/300\n",
            "1/1 [==============================] - 4s 4s/step - loss: 1.1581 - accuracy: 0.5823 - val_loss: 1.3166 - val_accuracy: 0.5353\n",
            "Epoch 86/300\n",
            "1/1 [==============================] - 5s 5s/step - loss: 1.1582 - accuracy: 0.5810 - val_loss: 1.3173 - val_accuracy: 0.5363\n",
            "Epoch 87/300\n",
            "1/1 [==============================] - 5s 5s/step - loss: 1.1593 - accuracy: 0.5822 - val_loss: 1.3174 - val_accuracy: 0.5348\n",
            "Epoch 88/300\n",
            "1/1 [==============================] - 4s 4s/step - loss: 1.1611 - accuracy: 0.5833 - val_loss: 1.3164 - val_accuracy: 0.5349\n",
            "Epoch 89/300\n",
            "1/1 [==============================] - 4s 4s/step - loss: 1.1570 - accuracy: 0.5822 - val_loss: 1.3156 - val_accuracy: 0.5348\n",
            "Epoch 90/300\n",
            "1/1 [==============================] - 4s 4s/step - loss: 1.1560 - accuracy: 0.5842 - val_loss: 1.3152 - val_accuracy: 0.5342\n",
            "Epoch 91/300\n",
            "1/1 [==============================] - 4s 4s/step - loss: 1.1612 - accuracy: 0.5847 - val_loss: 1.3151 - val_accuracy: 0.5350\n",
            "Epoch 92/300\n",
            "1/1 [==============================] - 5s 5s/step - loss: 1.1610 - accuracy: 0.5839 - val_loss: 1.3155 - val_accuracy: 0.5357\n",
            "Epoch 93/300\n",
            "1/1 [==============================] - 4s 4s/step - loss: 1.1581 - accuracy: 0.5817 - val_loss: 1.3156 - val_accuracy: 0.5356\n",
            "Epoch 94/300\n",
            "1/1 [==============================] - 5s 5s/step - loss: 1.1562 - accuracy: 0.5841 - val_loss: 1.3152 - val_accuracy: 0.5362\n",
            "Epoch 95/300\n",
            "1/1 [==============================] - 4s 4s/step - loss: 1.1598 - accuracy: 0.5843 - val_loss: 1.3151 - val_accuracy: 0.5359\n",
            "Epoch 96/300\n",
            "1/1 [==============================] - 4s 4s/step - loss: 1.1659 - accuracy: 0.5814 - val_loss: 1.3149 - val_accuracy: 0.5357\n",
            "Epoch 97/300\n",
            "1/1 [==============================] - 4s 4s/step - loss: 1.1612 - accuracy: 0.5822 - val_loss: 1.3155 - val_accuracy: 0.5354\n",
            "Epoch 98/300\n",
            "1/1 [==============================] - 4s 4s/step - loss: 1.1587 - accuracy: 0.5814 - val_loss: 1.3156 - val_accuracy: 0.5369\n",
            "Epoch 99/300\n",
            "1/1 [==============================] - 4s 4s/step - loss: 1.1558 - accuracy: 0.5869 - val_loss: 1.3156 - val_accuracy: 0.5373\n",
            "Epoch 100/300\n",
            "1/1 [==============================] - 4s 4s/step - loss: 1.1532 - accuracy: 0.5858 - val_loss: 1.3160 - val_accuracy: 0.5360\n",
            "Epoch 101/300\n",
            "1/1 [==============================] - 4s 4s/step - loss: 1.1599 - accuracy: 0.5835 - val_loss: 1.3166 - val_accuracy: 0.5348\n",
            "Epoch 102/300\n",
            "1/1 [==============================] - 4s 4s/step - loss: 1.1601 - accuracy: 0.5813 - val_loss: 1.3170 - val_accuracy: 0.5345\n",
            "Epoch 103/300\n",
            "1/1 [==============================] - 4s 4s/step - loss: 1.1546 - accuracy: 0.5834 - val_loss: 1.3167 - val_accuracy: 0.5356\n",
            "Epoch 104/300\n",
            "1/1 [==============================] - 4s 4s/step - loss: 1.1545 - accuracy: 0.5840 - val_loss: 1.3162 - val_accuracy: 0.5344\n",
            "Epoch 105/300\n",
            "1/1 [==============================] - 4s 4s/step - loss: 1.1619 - accuracy: 0.5828 - val_loss: 1.3159 - val_accuracy: 0.5362\n",
            "Epoch 106/300\n",
            "1/1 [==============================] - 4s 4s/step - loss: 1.1561 - accuracy: 0.5833 - val_loss: 1.3158 - val_accuracy: 0.5352\n",
            "Epoch 107/300\n",
            "1/1 [==============================] - 5s 5s/step - loss: 1.1609 - accuracy: 0.5861 - val_loss: 1.3159 - val_accuracy: 0.5346\n",
            "Epoch 108/300\n",
            "1/1 [==============================] - 5s 5s/step - loss: 1.1558 - accuracy: 0.5852 - val_loss: 1.3161 - val_accuracy: 0.5354\n",
            "Epoch 109/300\n",
            "1/1 [==============================] - 5s 5s/step - loss: 1.1616 - accuracy: 0.5829 - val_loss: 1.3162 - val_accuracy: 0.5359\n",
            "Epoch 110/300\n",
            "1/1 [==============================] - 5s 5s/step - loss: 1.1529 - accuracy: 0.5850 - val_loss: 1.3160 - val_accuracy: 0.5356\n",
            "Epoch 111/300\n",
            "1/1 [==============================] - 4s 4s/step - loss: 1.1563 - accuracy: 0.5837 - val_loss: 1.3159 - val_accuracy: 0.5349\n",
            "Epoch 112/300\n",
            "1/1 [==============================] - 4s 4s/step - loss: 1.1586 - accuracy: 0.5839 - val_loss: 1.3158 - val_accuracy: 0.5361\n",
            "Epoch 113/300\n",
            "1/1 [==============================] - 4s 4s/step - loss: 1.1589 - accuracy: 0.5851 - val_loss: 1.3151 - val_accuracy: 0.5373\n",
            "Epoch 114/300\n",
            "1/1 [==============================] - 6s 6s/step - loss: 1.1532 - accuracy: 0.5846 - val_loss: 1.3146 - val_accuracy: 0.5368\n",
            "Epoch 115/300\n",
            "1/1 [==============================] - 5s 5s/step - loss: 1.1608 - accuracy: 0.5808 - val_loss: 1.3146 - val_accuracy: 0.5367\n",
            "Epoch 116/300\n",
            "1/1 [==============================] - 4s 4s/step - loss: 1.1624 - accuracy: 0.5792 - val_loss: 1.3154 - val_accuracy: 0.5364\n",
            "Epoch 117/300\n",
            "1/1 [==============================] - 4s 4s/step - loss: 1.1581 - accuracy: 0.5857 - val_loss: 1.3157 - val_accuracy: 0.5355\n",
            "Epoch 118/300\n",
            "1/1 [==============================] - 4s 4s/step - loss: 1.1564 - accuracy: 0.5831 - val_loss: 1.3159 - val_accuracy: 0.5356\n",
            "Epoch 119/300\n",
            "1/1 [==============================] - 4s 4s/step - loss: 1.1579 - accuracy: 0.5842 - val_loss: 1.3160 - val_accuracy: 0.5358\n",
            "Epoch 120/300\n",
            "1/1 [==============================] - 4s 4s/step - loss: 1.1542 - accuracy: 0.5870 - val_loss: 1.3160 - val_accuracy: 0.5351\n",
            "Epoch 121/300\n",
            "1/1 [==============================] - 4s 4s/step - loss: 1.1525 - accuracy: 0.5858 - val_loss: 1.3154 - val_accuracy: 0.5363\n",
            "Epoch 122/300\n",
            "1/1 [==============================] - 5s 5s/step - loss: 1.1619 - accuracy: 0.5815 - val_loss: 1.3146 - val_accuracy: 0.5363\n",
            "Epoch 123/300\n",
            "1/1 [==============================] - 7s 7s/step - loss: 1.1601 - accuracy: 0.5846 - val_loss: 1.3139 - val_accuracy: 0.5366\n",
            "Epoch 124/300\n",
            "1/1 [==============================] - 4s 4s/step - loss: 1.1583 - accuracy: 0.5835 - val_loss: 1.3147 - val_accuracy: 0.5350\n",
            "Epoch 125/300\n",
            "1/1 [==============================] - 4s 4s/step - loss: 1.1588 - accuracy: 0.5837 - val_loss: 1.3158 - val_accuracy: 0.5337\n",
            "Epoch 126/300\n",
            "1/1 [==============================] - 4s 4s/step - loss: 1.1616 - accuracy: 0.5835 - val_loss: 1.3166 - val_accuracy: 0.5331\n",
            "Epoch 127/300\n",
            "1/1 [==============================] - 4s 4s/step - loss: 1.1558 - accuracy: 0.5861 - val_loss: 1.3178 - val_accuracy: 0.5340\n",
            "Epoch 128/300\n",
            "1/1 [==============================] - 4s 4s/step - loss: 1.1642 - accuracy: 0.5829 - val_loss: 1.3183 - val_accuracy: 0.5338\n",
            "Epoch 129/300\n",
            "1/1 [==============================] - 4s 4s/step - loss: 1.1572 - accuracy: 0.5837 - val_loss: 1.3174 - val_accuracy: 0.5341\n",
            "Epoch 130/300\n",
            "1/1 [==============================] - 4s 4s/step - loss: 1.1584 - accuracy: 0.5821 - val_loss: 1.3156 - val_accuracy: 0.5361\n",
            "Epoch 131/300\n",
            "1/1 [==============================] - 4s 4s/step - loss: 1.1615 - accuracy: 0.5836 - val_loss: 1.3139 - val_accuracy: 0.5369\n",
            "Epoch 132/300\n",
            "1/1 [==============================] - 4s 4s/step - loss: 1.1561 - accuracy: 0.5824 - val_loss: 1.3136 - val_accuracy: 0.5360\n",
            "Epoch 133/300\n",
            "1/1 [==============================] - 5s 5s/step - loss: 1.1555 - accuracy: 0.5865 - val_loss: 1.3146 - val_accuracy: 0.5361\n",
            "Epoch 134/300\n",
            "1/1 [==============================] - 4s 4s/step - loss: 1.1519 - accuracy: 0.5844 - val_loss: 1.3159 - val_accuracy: 0.5350\n",
            "Epoch 135/300\n",
            "1/1 [==============================] - 4s 4s/step - loss: 1.1517 - accuracy: 0.5858 - val_loss: 1.3167 - val_accuracy: 0.5343\n",
            "Epoch 136/300\n",
            "1/1 [==============================] - 4s 4s/step - loss: 1.1551 - accuracy: 0.5829 - val_loss: 1.3168 - val_accuracy: 0.5347\n",
            "Epoch 137/300\n",
            "1/1 [==============================] - 4s 4s/step - loss: 1.1603 - accuracy: 0.5838 - val_loss: 1.3156 - val_accuracy: 0.5346\n",
            "Epoch 138/300\n",
            "1/1 [==============================] - 4s 4s/step - loss: 1.1561 - accuracy: 0.5845 - val_loss: 1.3143 - val_accuracy: 0.5371\n",
            "Epoch 139/300\n",
            "1/1 [==============================] - 4s 4s/step - loss: 1.1581 - accuracy: 0.5849 - val_loss: 1.3142 - val_accuracy: 0.5356\n",
            "Epoch 140/300\n",
            "1/1 [==============================] - 4s 4s/step - loss: 1.1573 - accuracy: 0.5856 - val_loss: 1.3150 - val_accuracy: 0.5345\n",
            "Epoch 141/300\n",
            "1/1 [==============================] - 4s 4s/step - loss: 1.1551 - accuracy: 0.5828 - val_loss: 1.3162 - val_accuracy: 0.5349\n",
            "Epoch 142/300\n",
            "1/1 [==============================] - 4s 4s/step - loss: 1.1554 - accuracy: 0.5861 - val_loss: 1.3170 - val_accuracy: 0.5354\n",
            "Epoch 143/300\n",
            "1/1 [==============================] - 4s 4s/step - loss: 1.1550 - accuracy: 0.5823 - val_loss: 1.3175 - val_accuracy: 0.5361\n",
            "Epoch 144/300\n",
            "1/1 [==============================] - 4s 4s/step - loss: 1.1527 - accuracy: 0.5857 - val_loss: 1.3175 - val_accuracy: 0.5353\n",
            "Epoch 145/300\n",
            "1/1 [==============================] - 4s 4s/step - loss: 1.1548 - accuracy: 0.5859 - val_loss: 1.3171 - val_accuracy: 0.5365\n",
            "Epoch 146/300\n",
            "1/1 [==============================] - 4s 4s/step - loss: 1.1566 - accuracy: 0.5853 - val_loss: 1.3160 - val_accuracy: 0.5372\n",
            "Epoch 147/300\n",
            "1/1 [==============================] - 4s 4s/step - loss: 1.1577 - accuracy: 0.5840 - val_loss: 1.3151 - val_accuracy: 0.5377\n",
            "Epoch 148/300\n",
            "1/1 [==============================] - 4s 4s/step - loss: 1.1586 - accuracy: 0.5831 - val_loss: 1.3152 - val_accuracy: 0.5359\n",
            "Epoch 149/300\n",
            "1/1 [==============================] - 4s 4s/step - loss: 1.1581 - accuracy: 0.5820 - val_loss: 1.3154 - val_accuracy: 0.5363\n",
            "Epoch 150/300\n",
            "1/1 [==============================] - 4s 4s/step - loss: 1.1564 - accuracy: 0.5857 - val_loss: 1.3161 - val_accuracy: 0.5363\n",
            "Epoch 151/300\n",
            "1/1 [==============================] - 4s 4s/step - loss: 1.1546 - accuracy: 0.5841 - val_loss: 1.3163 - val_accuracy: 0.5358\n",
            "Epoch 152/300\n",
            "1/1 [==============================] - 4s 4s/step - loss: 1.1611 - accuracy: 0.5840 - val_loss: 1.3160 - val_accuracy: 0.5352\n",
            "Epoch 153/300\n",
            "1/1 [==============================] - 4s 4s/step - loss: 1.1559 - accuracy: 0.5873 - val_loss: 1.3157 - val_accuracy: 0.5357\n",
            "Epoch 154/300\n",
            "1/1 [==============================] - 4s 4s/step - loss: 1.1557 - accuracy: 0.5814 - val_loss: 1.3155 - val_accuracy: 0.5350\n",
            "Epoch 155/300\n",
            "1/1 [==============================] - 4s 4s/step - loss: 1.1508 - accuracy: 0.5862 - val_loss: 1.3160 - val_accuracy: 0.5358\n",
            "Epoch 156/300\n",
            "1/1 [==============================] - 5s 5s/step - loss: 1.1482 - accuracy: 0.5857 - val_loss: 1.3162 - val_accuracy: 0.5351\n",
            "Epoch 157/300\n",
            "1/1 [==============================] - 4s 4s/step - loss: 1.1596 - accuracy: 0.5819 - val_loss: 1.3166 - val_accuracy: 0.5360\n",
            "Epoch 158/300\n",
            "1/1 [==============================] - 4s 4s/step - loss: 1.1577 - accuracy: 0.5852 - val_loss: 1.3169 - val_accuracy: 0.5354\n",
            "Epoch 159/300\n",
            "1/1 [==============================] - 5s 5s/step - loss: 1.1573 - accuracy: 0.5831 - val_loss: 1.3172 - val_accuracy: 0.5348\n",
            "Epoch 160/300\n",
            "1/1 [==============================] - 4s 4s/step - loss: 1.1560 - accuracy: 0.5828 - val_loss: 1.3178 - val_accuracy: 0.5343\n",
            "Epoch 161/300\n",
            "1/1 [==============================] - 4s 4s/step - loss: 1.1535 - accuracy: 0.5842 - val_loss: 1.3175 - val_accuracy: 0.5356\n",
            "Epoch 162/300\n",
            "1/1 [==============================] - 4s 4s/step - loss: 1.1515 - accuracy: 0.5859 - val_loss: 1.3168 - val_accuracy: 0.5369\n",
            "Epoch 163/300\n",
            "1/1 [==============================] - 4s 4s/step - loss: 1.1571 - accuracy: 0.5853 - val_loss: 1.3157 - val_accuracy: 0.5367\n",
            "Epoch 164/300\n",
            "1/1 [==============================] - 4s 4s/step - loss: 1.1568 - accuracy: 0.5821 - val_loss: 1.3151 - val_accuracy: 0.5364\n",
            "Epoch 165/300\n",
            "1/1 [==============================] - 5s 5s/step - loss: 1.1594 - accuracy: 0.5839 - val_loss: 1.3149 - val_accuracy: 0.5359\n",
            "Epoch 166/300\n",
            "1/1 [==============================] - 5s 5s/step - loss: 1.1500 - accuracy: 0.5853 - val_loss: 1.3148 - val_accuracy: 0.5358\n",
            "Epoch 167/300\n",
            "1/1 [==============================] - 5s 5s/step - loss: 1.1568 - accuracy: 0.5828 - val_loss: 1.3159 - val_accuracy: 0.5365\n",
            "Epoch 168/300\n",
            "1/1 [==============================] - 5s 5s/step - loss: 1.1538 - accuracy: 0.5874 - val_loss: 1.3174 - val_accuracy: 0.5350\n",
            "Epoch 169/300\n",
            "1/1 [==============================] - 4s 4s/step - loss: 1.1564 - accuracy: 0.5842 - val_loss: 1.3181 - val_accuracy: 0.5364\n",
            "Epoch 170/300\n",
            "1/1 [==============================] - 4s 4s/step - loss: 1.1524 - accuracy: 0.5870 - val_loss: 1.3178 - val_accuracy: 0.5364\n",
            "Epoch 171/300\n",
            "1/1 [==============================] - 4s 4s/step - loss: 1.1512 - accuracy: 0.5869 - val_loss: 1.3170 - val_accuracy: 0.5357\n",
            "Epoch 172/300\n",
            "1/1 [==============================] - 4s 4s/step - loss: 1.1571 - accuracy: 0.5868 - val_loss: 1.3156 - val_accuracy: 0.5360\n",
            "Epoch 173/300\n",
            "1/1 [==============================] - 4s 4s/step - loss: 1.1485 - accuracy: 0.5885 - val_loss: 1.3147 - val_accuracy: 0.5368\n",
            "Epoch 174/300\n",
            "1/1 [==============================] - 5s 5s/step - loss: 1.1482 - accuracy: 0.5867 - val_loss: 1.3146 - val_accuracy: 0.5377\n",
            "Epoch 175/300\n",
            "1/1 [==============================] - 4s 4s/step - loss: 1.1543 - accuracy: 0.5863 - val_loss: 1.3155 - val_accuracy: 0.5363\n",
            "Epoch 176/300\n",
            "1/1 [==============================] - 4s 4s/step - loss: 1.1517 - accuracy: 0.5838 - val_loss: 1.3158 - val_accuracy: 0.5367\n",
            "Epoch 177/300\n",
            "1/1 [==============================] - 5s 5s/step - loss: 1.1574 - accuracy: 0.5832 - val_loss: 1.3164 - val_accuracy: 0.5367\n",
            "Epoch 178/300\n",
            "1/1 [==============================] - 4s 4s/step - loss: 1.1569 - accuracy: 0.5809 - val_loss: 1.3159 - val_accuracy: 0.5368\n",
            "Epoch 179/300\n",
            "1/1 [==============================] - 4s 4s/step - loss: 1.1579 - accuracy: 0.5828 - val_loss: 1.3151 - val_accuracy: 0.5384\n",
            "Epoch 180/300\n",
            "1/1 [==============================] - 4s 4s/step - loss: 1.1548 - accuracy: 0.5863 - val_loss: 1.3150 - val_accuracy: 0.5390\n",
            "Epoch 181/300\n",
            "1/1 [==============================] - 4s 4s/step - loss: 1.1595 - accuracy: 0.5825 - val_loss: 1.3154 - val_accuracy: 0.5382\n",
            "Epoch 182/300\n",
            "1/1 [==============================] - 4s 4s/step - loss: 1.1559 - accuracy: 0.5813 - val_loss: 1.3163 - val_accuracy: 0.5370\n",
            "Epoch 183/300\n",
            "1/1 [==============================] - 4s 4s/step - loss: 1.1577 - accuracy: 0.5840 - val_loss: 1.3169 - val_accuracy: 0.5363\n",
            "Epoch 184/300\n",
            "1/1 [==============================] - 4s 4s/step - loss: 1.1521 - accuracy: 0.5838 - val_loss: 1.3166 - val_accuracy: 0.5363\n",
            "Epoch 185/300\n",
            "1/1 [==============================] - 4s 4s/step - loss: 1.1530 - accuracy: 0.5841 - val_loss: 1.3157 - val_accuracy: 0.5362\n",
            "Epoch 186/300\n",
            "1/1 [==============================] - 4s 4s/step - loss: 1.1551 - accuracy: 0.5846 - val_loss: 1.3153 - val_accuracy: 0.5354\n",
            "Epoch 187/300\n",
            "1/1 [==============================] - 4s 4s/step - loss: 1.1548 - accuracy: 0.5841 - val_loss: 1.3153 - val_accuracy: 0.5355\n",
            "Epoch 188/300\n",
            "1/1 [==============================] - 4s 4s/step - loss: 1.1504 - accuracy: 0.5894 - val_loss: 1.3162 - val_accuracy: 0.5357\n",
            "Epoch 189/300\n",
            "1/1 [==============================] - 4s 4s/step - loss: 1.1501 - accuracy: 0.5886 - val_loss: 1.3169 - val_accuracy: 0.5350\n",
            "Epoch 190/300\n",
            "1/1 [==============================] - 4s 4s/step - loss: 1.1544 - accuracy: 0.5835 - val_loss: 1.3180 - val_accuracy: 0.5338\n",
            "Epoch 191/300\n",
            "1/1 [==============================] - 5s 5s/step - loss: 1.1541 - accuracy: 0.5852 - val_loss: 1.3183 - val_accuracy: 0.5333\n",
            "Epoch 192/300\n",
            "1/1 [==============================] - 5s 5s/step - loss: 1.1534 - accuracy: 0.5853 - val_loss: 1.3178 - val_accuracy: 0.5347\n",
            "Epoch 193/300\n",
            "1/1 [==============================] - 5s 5s/step - loss: 1.1562 - accuracy: 0.5857 - val_loss: 1.3166 - val_accuracy: 0.5360\n",
            "Epoch 194/300\n",
            "1/1 [==============================] - 4s 4s/step - loss: 1.1477 - accuracy: 0.5881 - val_loss: 1.3156 - val_accuracy: 0.5366\n",
            "Epoch 195/300\n",
            "1/1 [==============================] - 4s 4s/step - loss: 1.1501 - accuracy: 0.5861 - val_loss: 1.3154 - val_accuracy: 0.5377\n",
            "Epoch 196/300\n",
            "1/1 [==============================] - 4s 4s/step - loss: 1.1468 - accuracy: 0.5892 - val_loss: 1.3158 - val_accuracy: 0.5367\n",
            "Epoch 197/300\n",
            "1/1 [==============================] - 4s 4s/step - loss: 1.1573 - accuracy: 0.5853 - val_loss: 1.3168 - val_accuracy: 0.5363\n",
            "Epoch 198/300\n",
            "1/1 [==============================] - 4s 4s/step - loss: 1.1534 - accuracy: 0.5849 - val_loss: 1.3174 - val_accuracy: 0.5353\n",
            "Epoch 199/300\n",
            "1/1 [==============================] - 5s 5s/step - loss: 1.1558 - accuracy: 0.5842 - val_loss: 1.3169 - val_accuracy: 0.5338\n",
            "Epoch 200/300\n",
            "1/1 [==============================] - 4s 4s/step - loss: 1.1528 - accuracy: 0.5884 - val_loss: 1.3158 - val_accuracy: 0.5345\n",
            "Epoch 201/300\n",
            "1/1 [==============================] - 4s 4s/step - loss: 1.1470 - accuracy: 0.5866 - val_loss: 1.3153 - val_accuracy: 0.5350\n",
            "Epoch 202/300\n",
            "1/1 [==============================] - 4s 4s/step - loss: 1.1561 - accuracy: 0.5850 - val_loss: 1.3147 - val_accuracy: 0.5355\n",
            "Epoch 203/300\n",
            "1/1 [==============================] - 4s 4s/step - loss: 1.1508 - accuracy: 0.5883 - val_loss: 1.3147 - val_accuracy: 0.5339\n",
            "Epoch 204/300\n",
            "1/1 [==============================] - 4s 4s/step - loss: 1.1481 - accuracy: 0.5877 - val_loss: 1.3156 - val_accuracy: 0.5346\n",
            "Epoch 205/300\n",
            "1/1 [==============================] - 4s 4s/step - loss: 1.1504 - accuracy: 0.5876 - val_loss: 1.3167 - val_accuracy: 0.5346\n",
            "Epoch 206/300\n",
            "1/1 [==============================] - 4s 4s/step - loss: 1.1487 - accuracy: 0.5863 - val_loss: 1.3170 - val_accuracy: 0.5341\n",
            "Epoch 207/300\n",
            "1/1 [==============================] - 4s 4s/step - loss: 1.1456 - accuracy: 0.5885 - val_loss: 1.3167 - val_accuracy: 0.5348\n",
            "Epoch 208/300\n",
            "1/1 [==============================] - 4s 4s/step - loss: 1.1455 - accuracy: 0.5857 - val_loss: 1.3160 - val_accuracy: 0.5352\n",
            "Epoch 209/300\n",
            "1/1 [==============================] - 4s 4s/step - loss: 1.1500 - accuracy: 0.5859 - val_loss: 1.3154 - val_accuracy: 0.5364\n",
            "Epoch 210/300\n",
            "1/1 [==============================] - 4s 4s/step - loss: 1.1522 - accuracy: 0.5851 - val_loss: 1.3154 - val_accuracy: 0.5365\n",
            "Epoch 211/300\n",
            "1/1 [==============================] - 4s 4s/step - loss: 1.1549 - accuracy: 0.5835 - val_loss: 1.3162 - val_accuracy: 0.5367\n",
            "Epoch 212/300\n",
            "1/1 [==============================] - 4s 4s/step - loss: 1.1550 - accuracy: 0.5839 - val_loss: 1.3168 - val_accuracy: 0.5361\n",
            "Epoch 213/300\n",
            "1/1 [==============================] - 4s 4s/step - loss: 1.1514 - accuracy: 0.5868 - val_loss: 1.3168 - val_accuracy: 0.5360\n",
            "Epoch 214/300\n",
            "1/1 [==============================] - 4s 4s/step - loss: 1.1539 - accuracy: 0.5842 - val_loss: 1.3165 - val_accuracy: 0.5349\n",
            "Epoch 215/300\n",
            "1/1 [==============================] - 4s 4s/step - loss: 1.1531 - accuracy: 0.5851 - val_loss: 1.3161 - val_accuracy: 0.5361\n",
            "Epoch 216/300\n",
            "1/1 [==============================] - 4s 4s/step - loss: 1.1584 - accuracy: 0.5835 - val_loss: 1.3156 - val_accuracy: 0.5366\n",
            "Epoch 217/300\n",
            "1/1 [==============================] - 5s 5s/step - loss: 1.1548 - accuracy: 0.5836 - val_loss: 1.3158 - val_accuracy: 0.5353\n",
            "Epoch 218/300\n",
            "1/1 [==============================] - 5s 5s/step - loss: 1.1516 - accuracy: 0.5850 - val_loss: 1.3162 - val_accuracy: 0.5353\n",
            "Epoch 219/300\n",
            "1/1 [==============================] - 5s 5s/step - loss: 1.1540 - accuracy: 0.5849 - val_loss: 1.3165 - val_accuracy: 0.5356\n",
            "Epoch 220/300\n",
            "1/1 [==============================] - 5s 5s/step - loss: 1.1452 - accuracy: 0.5879 - val_loss: 1.3166 - val_accuracy: 0.5355\n",
            "Epoch 221/300\n",
            "1/1 [==============================] - 5s 5s/step - loss: 1.1494 - accuracy: 0.5844 - val_loss: 1.3160 - val_accuracy: 0.5357\n",
            "Epoch 222/300\n",
            "1/1 [==============================] - 4s 4s/step - loss: 1.1522 - accuracy: 0.5836 - val_loss: 1.3150 - val_accuracy: 0.5365\n",
            "Epoch 223/300\n",
            "1/1 [==============================] - 4s 4s/step - loss: 1.1524 - accuracy: 0.5867 - val_loss: 1.3147 - val_accuracy: 0.5363\n",
            "Epoch 224/300\n",
            "1/1 [==============================] - 4s 4s/step - loss: 1.1504 - accuracy: 0.5866 - val_loss: 1.3159 - val_accuracy: 0.5357\n",
            "Epoch 225/300\n",
            "1/1 [==============================] - 4s 4s/step - loss: 1.1569 - accuracy: 0.5850 - val_loss: 1.3166 - val_accuracy: 0.5358\n",
            "Epoch 226/300\n",
            "1/1 [==============================] - 4s 4s/step - loss: 1.1562 - accuracy: 0.5832 - val_loss: 1.3178 - val_accuracy: 0.5356\n",
            "Epoch 227/300\n",
            "1/1 [==============================] - 4s 4s/step - loss: 1.1531 - accuracy: 0.5847 - val_loss: 1.3180 - val_accuracy: 0.5354\n",
            "Epoch 228/300\n",
            "1/1 [==============================] - 4s 4s/step - loss: 1.1490 - accuracy: 0.5906 - val_loss: 1.3176 - val_accuracy: 0.5352\n",
            "Epoch 229/300\n",
            "1/1 [==============================] - 4s 4s/step - loss: 1.1570 - accuracy: 0.5849 - val_loss: 1.3165 - val_accuracy: 0.5357\n",
            "Epoch 230/300\n",
            "1/1 [==============================] - 4s 4s/step - loss: 1.1499 - accuracy: 0.5871 - val_loss: 1.3157 - val_accuracy: 0.5366\n",
            "Epoch 231/300\n",
            "1/1 [==============================] - 4s 4s/step - loss: 1.1475 - accuracy: 0.5867 - val_loss: 1.3154 - val_accuracy: 0.5363\n",
            "Epoch 232/300\n",
            "1/1 [==============================] - 4s 4s/step - loss: 1.1488 - accuracy: 0.5878 - val_loss: 1.3154 - val_accuracy: 0.5358\n",
            "Epoch 233/300\n",
            "1/1 [==============================] - 4s 4s/step - loss: 1.1506 - accuracy: 0.5868 - val_loss: 1.3168 - val_accuracy: 0.5357\n",
            "Epoch 234/300\n",
            "1/1 [==============================] - 4s 4s/step - loss: 1.1545 - accuracy: 0.5861 - val_loss: 1.3182 - val_accuracy: 0.5343\n",
            "Epoch 235/300\n",
            "1/1 [==============================] - 4s 4s/step - loss: 1.1478 - accuracy: 0.5878 - val_loss: 1.3178 - val_accuracy: 0.5350\n",
            "Epoch 236/300\n",
            "1/1 [==============================] - 4s 4s/step - loss: 1.1470 - accuracy: 0.5891 - val_loss: 1.3157 - val_accuracy: 0.5357\n",
            "Epoch 237/300\n",
            "1/1 [==============================] - 4s 4s/step - loss: 1.1541 - accuracy: 0.5859 - val_loss: 1.3139 - val_accuracy: 0.5353\n",
            "Epoch 238/300\n",
            "1/1 [==============================] - 4s 4s/step - loss: 1.1522 - accuracy: 0.5859 - val_loss: 1.3141 - val_accuracy: 0.5346\n",
            "Epoch 239/300\n",
            "1/1 [==============================] - 4s 4s/step - loss: 1.1516 - accuracy: 0.5856 - val_loss: 1.3158 - val_accuracy: 0.5350\n",
            "Epoch 240/300\n",
            "1/1 [==============================] - 4s 4s/step - loss: 1.1507 - accuracy: 0.5850 - val_loss: 1.3174 - val_accuracy: 0.5359\n",
            "Epoch 241/300\n",
            "1/1 [==============================] - 4s 4s/step - loss: 1.1484 - accuracy: 0.5868 - val_loss: 1.3185 - val_accuracy: 0.5354\n",
            "Epoch 242/300\n",
            "1/1 [==============================] - 5s 5s/step - loss: 1.1495 - accuracy: 0.5877 - val_loss: 1.3182 - val_accuracy: 0.5370\n",
            "Epoch 243/300\n",
            "1/1 [==============================] - 4s 4s/step - loss: 1.1490 - accuracy: 0.5869 - val_loss: 1.3170 - val_accuracy: 0.5371\n",
            "Epoch 244/300\n",
            "1/1 [==============================] - 5s 5s/step - loss: 1.1503 - accuracy: 0.5865 - val_loss: 1.3152 - val_accuracy: 0.5371\n",
            "Epoch 245/300\n",
            "1/1 [==============================] - 4s 4s/step - loss: 1.1489 - accuracy: 0.5853 - val_loss: 1.3146 - val_accuracy: 0.5380\n",
            "Epoch 246/300\n",
            "1/1 [==============================] - 4s 4s/step - loss: 1.1506 - accuracy: 0.5885 - val_loss: 1.3152 - val_accuracy: 0.5386\n",
            "Epoch 247/300\n",
            "1/1 [==============================] - 4s 4s/step - loss: 1.1531 - accuracy: 0.5837 - val_loss: 1.3162 - val_accuracy: 0.5378\n",
            "Epoch 248/300\n",
            "1/1 [==============================] - 4s 4s/step - loss: 1.1528 - accuracy: 0.5844 - val_loss: 1.3177 - val_accuracy: 0.5366\n",
            "Epoch 249/300\n",
            "1/1 [==============================] - 4s 4s/step - loss: 1.1437 - accuracy: 0.5862 - val_loss: 1.3180 - val_accuracy: 0.5363\n",
            "Epoch 250/300\n",
            "1/1 [==============================] - 4s 4s/step - loss: 1.1502 - accuracy: 0.5828 - val_loss: 1.3176 - val_accuracy: 0.5352\n",
            "Epoch 251/300\n",
            "1/1 [==============================] - 5s 5s/step - loss: 1.1454 - accuracy: 0.5892 - val_loss: 1.3171 - val_accuracy: 0.5355\n",
            "Epoch 252/300\n",
            "1/1 [==============================] - 5s 5s/step - loss: 1.1475 - accuracy: 0.5900 - val_loss: 1.3167 - val_accuracy: 0.5348\n",
            "Epoch 253/300\n",
            "1/1 [==============================] - 4s 4s/step - loss: 1.1545 - accuracy: 0.5873 - val_loss: 1.3168 - val_accuracy: 0.5346\n",
            "Epoch 254/300\n",
            "1/1 [==============================] - 4s 4s/step - loss: 1.1526 - accuracy: 0.5855 - val_loss: 1.3173 - val_accuracy: 0.5333\n",
            "Epoch 255/300\n",
            "1/1 [==============================] - 4s 4s/step - loss: 1.1577 - accuracy: 0.5851 - val_loss: 1.3179 - val_accuracy: 0.5346\n",
            "Epoch 256/300\n",
            "1/1 [==============================] - 4s 4s/step - loss: 1.1521 - accuracy: 0.5881 - val_loss: 1.3180 - val_accuracy: 0.5357\n",
            "Epoch 257/300\n",
            "1/1 [==============================] - 4s 4s/step - loss: 1.1506 - accuracy: 0.5868 - val_loss: 1.3169 - val_accuracy: 0.5368\n",
            "Epoch 258/300\n",
            "1/1 [==============================] - 5s 5s/step - loss: 1.1501 - accuracy: 0.5893 - val_loss: 1.3163 - val_accuracy: 0.5372\n",
            "Epoch 259/300\n",
            "1/1 [==============================] - 4s 4s/step - loss: 1.1479 - accuracy: 0.5881 - val_loss: 1.3163 - val_accuracy: 0.5364\n",
            "Epoch 260/300\n",
            "1/1 [==============================] - 4s 4s/step - loss: 1.1515 - accuracy: 0.5848 - val_loss: 1.3171 - val_accuracy: 0.5367\n",
            "Epoch 261/300\n",
            "1/1 [==============================] - 5s 5s/step - loss: 1.1552 - accuracy: 0.5847 - val_loss: 1.3170 - val_accuracy: 0.5368\n",
            "Epoch 262/300\n",
            "1/1 [==============================] - 4s 4s/step - loss: 1.1502 - accuracy: 0.5869 - val_loss: 1.3169 - val_accuracy: 0.5365\n",
            "Epoch 263/300\n",
            "1/1 [==============================] - 4s 4s/step - loss: 1.1449 - accuracy: 0.5895 - val_loss: 1.3166 - val_accuracy: 0.5360\n",
            "Epoch 264/300\n",
            "1/1 [==============================] - 4s 4s/step - loss: 1.1522 - accuracy: 0.5848 - val_loss: 1.3164 - val_accuracy: 0.5357\n",
            "Epoch 265/300\n",
            "1/1 [==============================] - 4s 4s/step - loss: 1.1465 - accuracy: 0.5851 - val_loss: 1.3166 - val_accuracy: 0.5355\n",
            "Epoch 266/300\n",
            "1/1 [==============================] - 4s 4s/step - loss: 1.1500 - accuracy: 0.5872 - val_loss: 1.3172 - val_accuracy: 0.5361\n",
            "Epoch 267/300\n",
            "1/1 [==============================] - 4s 4s/step - loss: 1.1504 - accuracy: 0.5843 - val_loss: 1.3177 - val_accuracy: 0.5356\n",
            "Epoch 268/300\n",
            "1/1 [==============================] - 5s 5s/step - loss: 1.1465 - accuracy: 0.5875 - val_loss: 1.3177 - val_accuracy: 0.5365\n",
            "Epoch 269/300\n",
            "1/1 [==============================] - 4s 4s/step - loss: 1.1498 - accuracy: 0.5874 - val_loss: 1.3178 - val_accuracy: 0.5362\n",
            "Epoch 270/300\n",
            "1/1 [==============================] - 4s 4s/step - loss: 1.1486 - accuracy: 0.5873 - val_loss: 1.3174 - val_accuracy: 0.5363\n",
            "Epoch 271/300\n",
            "1/1 [==============================] - 4s 4s/step - loss: 1.1478 - accuracy: 0.5883 - val_loss: 1.3175 - val_accuracy: 0.5358\n",
            "Epoch 272/300\n",
            "1/1 [==============================] - 4s 4s/step - loss: 1.1465 - accuracy: 0.5877 - val_loss: 1.3175 - val_accuracy: 0.5372\n",
            "Epoch 273/300\n",
            "1/1 [==============================] - 4s 4s/step - loss: 1.1492 - accuracy: 0.5876 - val_loss: 1.3181 - val_accuracy: 0.5361\n",
            "Epoch 274/300\n",
            "1/1 [==============================] - 4s 4s/step - loss: 1.1433 - accuracy: 0.5908 - val_loss: 1.3183 - val_accuracy: 0.5352\n",
            "Epoch 275/300\n",
            "1/1 [==============================] - 4s 4s/step - loss: 1.1473 - accuracy: 0.5854 - val_loss: 1.3179 - val_accuracy: 0.5358\n",
            "Epoch 276/300\n",
            "1/1 [==============================] - 4s 4s/step - loss: 1.1498 - accuracy: 0.5865 - val_loss: 1.3168 - val_accuracy: 0.5350\n",
            "Epoch 277/300\n",
            "1/1 [==============================] - 4s 4s/step - loss: 1.1469 - accuracy: 0.5879 - val_loss: 1.3155 - val_accuracy: 0.5353\n",
            "Epoch 278/300\n",
            "1/1 [==============================] - 4s 4s/step - loss: 1.1477 - accuracy: 0.5866 - val_loss: 1.3156 - val_accuracy: 0.5349\n",
            "Epoch 279/300\n",
            "1/1 [==============================] - 4s 4s/step - loss: 1.1494 - accuracy: 0.5877 - val_loss: 1.3167 - val_accuracy: 0.5339\n",
            "Epoch 280/300\n",
            "1/1 [==============================] - 4s 4s/step - loss: 1.1525 - accuracy: 0.5849 - val_loss: 1.3183 - val_accuracy: 0.5326\n",
            "Epoch 281/300\n",
            "1/1 [==============================] - 4s 4s/step - loss: 1.1487 - accuracy: 0.5869 - val_loss: 1.3191 - val_accuracy: 0.5336\n",
            "Epoch 282/300\n",
            "1/1 [==============================] - 5s 5s/step - loss: 1.1468 - accuracy: 0.5847 - val_loss: 1.3179 - val_accuracy: 0.5342\n",
            "Epoch 283/300\n",
            "1/1 [==============================] - 5s 5s/step - loss: 1.1413 - accuracy: 0.5874 - val_loss: 1.3159 - val_accuracy: 0.5332\n",
            "Epoch 284/300\n",
            "1/1 [==============================] - 5s 5s/step - loss: 1.1459 - accuracy: 0.5881 - val_loss: 1.3150 - val_accuracy: 0.5334\n",
            "Epoch 285/300\n",
            "1/1 [==============================] - 5s 5s/step - loss: 1.1468 - accuracy: 0.5895 - val_loss: 1.3157 - val_accuracy: 0.5343\n",
            "Epoch 286/300\n",
            "1/1 [==============================] - 5s 5s/step - loss: 1.1480 - accuracy: 0.5880 - val_loss: 1.3170 - val_accuracy: 0.5349\n",
            "Epoch 287/300\n",
            "1/1 [==============================] - 5s 5s/step - loss: 1.1479 - accuracy: 0.5870 - val_loss: 1.3189 - val_accuracy: 0.5351\n",
            "Epoch 288/300\n",
            "1/1 [==============================] - 4s 4s/step - loss: 1.1501 - accuracy: 0.5852 - val_loss: 1.3197 - val_accuracy: 0.5342\n",
            "Epoch 289/300\n",
            "1/1 [==============================] - 4s 4s/step - loss: 1.1474 - accuracy: 0.5864 - val_loss: 1.3196 - val_accuracy: 0.5345\n",
            "Epoch 290/300\n",
            "1/1 [==============================] - 4s 4s/step - loss: 1.1429 - accuracy: 0.5893 - val_loss: 1.3181 - val_accuracy: 0.5351\n",
            "Epoch 291/300\n",
            "1/1 [==============================] - 4s 4s/step - loss: 1.1444 - accuracy: 0.5871 - val_loss: 1.3175 - val_accuracy: 0.5364\n",
            "Epoch 292/300\n",
            "1/1 [==============================] - 4s 4s/step - loss: 1.1450 - accuracy: 0.5901 - val_loss: 1.3177 - val_accuracy: 0.5360\n",
            "Epoch 293/300\n",
            "1/1 [==============================] - 5s 5s/step - loss: 1.1466 - accuracy: 0.5878 - val_loss: 1.3175 - val_accuracy: 0.5356\n",
            "Epoch 294/300\n",
            "1/1 [==============================] - 5s 5s/step - loss: 1.1464 - accuracy: 0.5911 - val_loss: 1.3175 - val_accuracy: 0.5354\n",
            "Epoch 295/300\n",
            "1/1 [==============================] - 4s 4s/step - loss: 1.1478 - accuracy: 0.5881 - val_loss: 1.3181 - val_accuracy: 0.5347\n",
            "Epoch 296/300\n",
            "1/1 [==============================] - 4s 4s/step - loss: 1.1527 - accuracy: 0.5850 - val_loss: 1.3184 - val_accuracy: 0.5359\n",
            "Epoch 297/300\n",
            "1/1 [==============================] - 5s 5s/step - loss: 1.1445 - accuracy: 0.5888 - val_loss: 1.3184 - val_accuracy: 0.5355\n",
            "Epoch 298/300\n",
            "1/1 [==============================] - 5s 5s/step - loss: 1.1504 - accuracy: 0.5849 - val_loss: 1.3182 - val_accuracy: 0.5344\n",
            "Epoch 299/300\n",
            "1/1 [==============================] - 4s 4s/step - loss: 1.1445 - accuracy: 0.5872 - val_loss: 1.3184 - val_accuracy: 0.5350\n",
            "Epoch 300/300\n",
            "1/1 [==============================] - 4s 4s/step - loss: 1.1482 - accuracy: 0.5871 - val_loss: 1.3186 - val_accuracy: 0.5346\n",
            "CPU times: user 43min 12s, sys: 12.5 s, total: 43min 25s\n",
            "Wall time: 23min 22s\n"
          ]
        }
      ],
      "source": [
        "%%time\n",
        "samples_per_batch = 50000\n",
        "nr_epochs = 300\n",
        "model_4.fit(x_train, y_train, batch_size=samples_per_batch, epochs=nr_epochs, validation_data=(x_val, y_val))"
      ]
    },
    {
      "cell_type": "code",
      "execution_count": null,
      "metadata": {
        "id": "HjNPDjlauy5D"
      },
      "outputs": [],
      "source": [
        "\n",
        "# %%time\n",
        "# samples_per_batch = 1000\n",
        "# nr_epochs = 100\n",
        "# model_2.fit(x_train, y_train, batch_size=samples_per_batch, epochs=nr_epochs, validation_data=(x_val, y_val))"
      ]
    },
    {
      "cell_type": "code",
      "execution_count": null,
      "metadata": {
        "id": "F-3_gfIqh4XA"
      },
      "outputs": [],
      "source": [
        "# %%time\n",
        "# samples_per_batch = 1000\n",
        "# nr_epochs = 100\n",
        "# model_1.fit(x_train, y_train, batch_size=samples_per_batch, epochs=nr_epochs, validation_data=(x_val, y_val))"
      ]
    },
    {
      "cell_type": "code",
      "execution_count": null,
      "metadata": {
        "id": "hqPm65ZKiB3M"
      },
      "outputs": [],
      "source": [
        "# %%time\n",
        "# nr_epochs = 150\n",
        "# model_1.fit(x_train_xs, y_train_xs, batch_size=samples_per_batch, epochs=nr_epochs, validation_data=(x_val, y_val))"
      ]
    },
    {
      "cell_type": "code",
      "execution_count": null,
      "metadata": {
        "id": "9_dI9A_gQVm9"
      },
      "outputs": [],
      "source": [
        "# nr_epochs = 10\n",
        "# model_3.fit(x_train, y_train, batch_size=1000,validation_split=0.15, epochs=nr_epochs, validation_data=(x_val, y_val))"
      ]
    },
    {
      "cell_type": "markdown",
      "metadata": {
        "id": "Nxi8hPul5Mqd"
      },
      "source": [
        "# Predicition\n"
      ]
    },
    {
      "cell_type": "code",
      "execution_count": null,
      "metadata": {
        "id": "BmdwlIvkiS6C",
        "colab": {
          "base_uri": "https://localhost:8080/"
        },
        "outputId": "5aaf1aa3-3266-45d2-e7c6-5f89c7dda39b"
      },
      "outputs": [
        {
          "output_type": "execute_result",
          "data": {
            "text/plain": [
              "array([0.23137255, 0.24313725, 0.24705882, ..., 0.48235294, 0.36078431,\n",
              "       0.28235294])"
            ]
          },
          "metadata": {},
          "execution_count": 24
        }
      ],
      "source": [
        "x_val[0]"
      ]
    },
    {
      "cell_type": "code",
      "execution_count": null,
      "metadata": {
        "id": "OaQH-HM3tsYe",
        "colab": {
          "base_uri": "https://localhost:8080/"
        },
        "outputId": "642e0991-0a80-4a01-f0a0-dfed1a4a6122"
      },
      "outputs": [
        {
          "output_type": "execute_result",
          "data": {
            "text/plain": [
              "(1, 3072)"
            ]
          },
          "metadata": {},
          "execution_count": 25
        }
      ],
      "source": [
        " test = np.expand_dims(x_val[0],axis=0)\n",
        " test.shape"
      ]
    },
    {
      "cell_type": "code",
      "execution_count": null,
      "metadata": {
        "id": "8tFBlvE28dgt"
      },
      "outputs": [],
      "source": [
        "np.set_printoptions(precision=3)"
      ]
    },
    {
      "cell_type": "code",
      "execution_count": null,
      "metadata": {
        "id": "o7ulNDwp7i7W",
        "colab": {
          "base_uri": "https://localhost:8080/"
        },
        "outputId": "a0774295-5398-4ca9-9e07-eed2e64a71c1"
      },
      "outputs": [
        {
          "output_type": "execute_result",
          "data": {
            "text/plain": [
              "array([[0.082, 0.094, 0.085, 0.048, 0.097, 0.132, 0.073, 0.132, 0.09 ,\n",
              "        0.167]], dtype=float32)"
            ]
          },
          "metadata": {},
          "execution_count": 27
        }
      ],
      "source": [
        "model_1.predict(test)"
      ]
    },
    {
      "cell_type": "code",
      "execution_count": null,
      "metadata": {
        "id": "FoVAVLNe726n",
        "colab": {
          "base_uri": "https://localhost:8080/"
        },
        "outputId": "347339c5-6d2f-4692-d977-ee2e7d19cf17"
      },
      "outputs": [
        {
          "output_type": "execute_result",
          "data": {
            "text/plain": [
              "(10000, 10)"
            ]
          },
          "metadata": {},
          "execution_count": 28
        }
      ],
      "source": [
        "model_1.predict(x_val).shape"
      ]
    },
    {
      "cell_type": "code",
      "execution_count": null,
      "metadata": {
        "id": "I2yYPLH49VMO",
        "colab": {
          "base_uri": "https://localhost:8080/"
        },
        "outputId": "1d378725-fb1b-47a4-dcb7-40fdcd785e88"
      },
      "outputs": [
        {
          "output_type": "stream",
          "name": "stdout",
          "text": [
            "[[0 0 0 0 0 0 0 0 0 0]]\n"
          ]
        }
      ],
      "source": [
        "predictions = (model_2.predict(test)>0.5).astype(\"uint\")\n",
        "print(predictions)"
      ]
    },
    {
      "cell_type": "code",
      "execution_count": null,
      "metadata": {
        "id": "a1nsWa3V91ic",
        "colab": {
          "base_uri": "https://localhost:8080/"
        },
        "outputId": "ca866c6b-ff6f-4262-f0cb-4236f39831cf"
      },
      "outputs": [
        {
          "output_type": "execute_result",
          "data": {
            "text/plain": [
              "array([6], dtype=uint8)"
            ]
          },
          "metadata": {},
          "execution_count": 30
        }
      ],
      "source": [
        "y_val[0]"
      ]
    },
    {
      "cell_type": "code",
      "execution_count": null,
      "metadata": {
        "id": "elEaIj94BT4e",
        "colab": {
          "base_uri": "https://localhost:8080/"
        },
        "outputId": "d6f93a0c-47b3-40e5-aa6f-10370bbb8e6f"
      },
      "outputs": [
        {
          "output_type": "stream",
          "name": "stdout",
          "text": [
            "Frog\n",
            "[[0 0 0 0 0 0 1 0 0 0]]\n",
            "Predicted category is Frog\n",
            "_____________________________________________________________\n",
            "Truck\n",
            "[[0 1 0 0 0 0 0 0 0 0]]\n",
            "Predicted category is Truck\n",
            "_____________________________________________________________\n",
            "Truck\n",
            "[[0 0 0 0 0 0 0 0 0 1]]\n",
            "Predicted category is Truck\n",
            "_____________________________________________________________\n",
            "Deer\n",
            "[[0 0 0 0 0 0 1 0 0 0]]\n",
            "Predicted category is Truck\n",
            "_____________________________________________________________\n",
            "Car\n",
            "[[0 1 0 0 0 0 0 0 0 0]]\n",
            "Predicted category is Truck\n",
            "_____________________________________________________________\n",
            "Car\n",
            "[[0 0 0 0 0 0 0 0 0 0]]\n",
            "Predicted category is Truck\n",
            "_____________________________________________________________\n",
            "Bird\n",
            "[[0 0 1 0 0 0 0 0 0 0]]\n",
            "Predicted category is Truck\n",
            "_____________________________________________________________\n",
            "Horse\n",
            "[[0 0 0 0 0 0 0 1 0 0]]\n",
            "Predicted category is Horse\n",
            "_____________________________________________________________\n",
            "Ship\n",
            "[[0 0 0 0 0 0 0 0 1 0]]\n",
            "Predicted category is Ship\n",
            "_____________________________________________________________\n",
            "Cat\n",
            "[[0 0 0 0 0 0 0 0 0 0]]\n",
            "Predicted category is Ship\n",
            "_____________________________________________________________\n"
          ]
        }
      ],
      "source": [
        "result=0\n",
        "for i in range(0,10):\n",
        "  test = np.expand_dims(x_val[i],axis=0)\n",
        "  predictions = (model_4.predict(test)>0.4).astype('uint')\n",
        "  print(LABEL_NAMES[y_train_all[i][0]])\n",
        "  print(predictions)\n",
        "  if predictions[0][i]==1:\n",
        "    result=i\n",
        "  print(\"Predicted category is \"+ LABEL_NAMES[y_train_all[result][0]])\n",
        "  print(\"_____________________________________________________________\")\n",
        "  "
      ]
    },
    {
      "cell_type": "markdown",
      "source": [
        "#Image Provided "
      ],
      "metadata": {
        "id": "a6fjNInUYqKP"
      }
    },
    {
      "cell_type": "code",
      "source": [
        "FILE_1 = '/content/bird.jpeg'\n",
        "FILE_2 = '/content/car.jpeg'\n",
        "FILE_3 = '/content/frog.jpeg'\n",
        "FILE_4 = '/content/deer.jpeg'\n",
        "FILE_5 = '/content/horse.jpeg'\n",
        "FILE_6 = '/content/ship.jpeg'\n",
        "FILE_7 = '/content/truck.jpeg'\n",
        "pic = load_img(FILE_6, target_size=(32, 32))\n",
        "pic_array = img_to_array(pic)\n",
        "\n",
        "# display(pic)\n",
        "\n",
        "pic_array.shape\n",
        "expanded = np.expand_dims(pic_array, axis=0)\n",
        "expanded = expanded.reshape(32*32*3)\n",
        "expanded.shape\n",
        "\n",
        "test = np.expand_dims(expanded,axis=0)\n",
        "test.shape\n",
        "\n",
        "predictions = (model_4.predict(test)>0.5).astype(\"uint\")\n",
        "for i in range(0,10):\n",
        " if predictions[0][i]==1:\n",
        "    # data = LABEL_NAMES[y_train_all[i][0]]\n",
        "    predictions = (model_4.predict(test))\n",
        "    print(predictions)\n",
        "    result=i\n",
        "print(result)\n",
        "# display(y_train_all[result][0])\n",
        "# print(predictions)\n",
        "# print(data)\n",
        "# print(\"Predicted category is \"+ LABEL_NAMES[y_train_all[result][0]],end=\"\\n\\n\")\n",
        "for i in range(0,4):\n",
        "  print(LABEL_NAMES[result][i],end=\"\")\n",
        "\n",
        "# output image size change\n",
        "pic_original=load_img(FILE_6)\n",
        "display(pic_original)"
      ],
      "metadata": {
        "colab": {
          "base_uri": "https://localhost:8080/",
          "height": 245
        },
        "id": "QKIydVOFYxbK",
        "outputId": "52bcb692-7889-421c-9386-19076d061339"
      },
      "execution_count": null,
      "outputs": [
        {
          "output_type": "stream",
          "name": "stdout",
          "text": [
            "[[0. 0. 0. 0. 0. 0. 0. 0. 1. 0.]]\n",
            "8\n",
            "Ship"
          ]
        },
        {
          "output_type": "display_data",
          "data": {
            "text/plain": [
              "<PIL.JpegImagePlugin.JpegImageFile image mode=RGB size=284x177 at 0x7F22B8FC8450>"
            ],
            "image/png": "[encoded data removed]"
          },
          "metadata": {}
        }
      ]
    },
    {
      "cell_type": "code",
      "source": [
        "LABEL_NAMES = ['Plane', 'Car', 'Bird', 'Cat', 'Deer', 'Dog', 'Frog', 'Horse', 'Ship', 'Truck']"
      ],
      "metadata": {
        "id": "YUWk1e69YxTV"
      },
      "execution_count": null,
      "outputs": []
    },
    {
      "cell_type": "code",
      "source": [
        ""
      ],
      "metadata": {
        "id": "1Mm-RqdbYxNY"
      },
      "execution_count": null,
      "outputs": []
    },
    {
      "cell_type": "code",
      "source": [
        ""
      ],
      "metadata": {
        "id": "o6JNfrwSYu9C"
      },
      "execution_count": null,
      "outputs": []
    },
    {
      "cell_type": "markdown",
      "metadata": {
        "id": "FTj12YmuFmHl"
      },
      "source": [
        "# Server Upload\n"
      ]
    },
    {
      "cell_type": "code",
      "source": [
        "!pip install anvil-uplink"
      ],
      "metadata": {
        "id": "O8nAhDB3rDjf"
      },
      "execution_count": null,
      "outputs": []
    },
    {
      "cell_type": "code",
      "source": [
        "import anvil.server\n",
        "\n",
        "anvil.server.connect(\"A5TCUYHHPJVG3M5WVCEUFCC7-5LUWM2OJZKMKVYH3\")"
      ],
      "metadata": {
        "id": "VW9O_VFprIjI"
      },
      "execution_count": null,
      "outputs": []
    },
    {
      "cell_type": "code",
      "source": [
        "import anvil.server\n",
        "\n",
        "anvil.server.connect(\"A5TCUYHHPJVG3M5WVCEUFCC7-5LUWM2OJZKMKVYH3\")\n",
        "\n",
        "@anvil.server.callable\n",
        "def say_hello(name):\n",
        "  print(\"Hello from the uplink, %s!\" % name)\n",
        "\n",
        "anvil.server.wait_forever()"
      ],
      "metadata": {
        "id": "4gfvcJ88rKIe"
      },
      "execution_count": null,
      "outputs": []
    }
  ],
  "metadata": {
    "colab": {
      "collapsed_sections": [],
      "name": "MINI PROJECT1",
      "provenance": [],
      "include_colab_link": true
    },
    "kernelspec": {
      "display_name": "Python 3",
      "name": "python3"
    }
  },
  "nbformat": 4,
  "nbformat_minor": 0
}